{
 "cells": [
  {
   "cell_type": "markdown",
   "metadata": {},
   "source": [
    "### Juan Pablo Fonseca 138263\n",
    "### Ejercicio de árboles de decisión"
   ]
  },
  {
   "cell_type": "markdown",
   "metadata": {
    "collapsed": true
   },
   "source": [
    "Se usará un dataset clásico en la literatura, que es *iris.data*. Tiene tres clases."
   ]
  },
  {
   "cell_type": "code",
   "execution_count": 61,
   "metadata": {
    "collapsed": false
   },
   "outputs": [],
   "source": [
    "import pandas as pd\n",
    "import numpy as np\n",
    "import graphviz #Para ver el arbol\n",
    "from sklearn.model_selection import train_test_split\n",
    "from sklearn.tree import DecisionTreeClassifier\n",
    "from sklearn.tree import export_graphviz\n",
    "import matplotlib.pyplot as plt\n",
    "from sklearn.metrics import confusion_matrix"
   ]
  },
  {
   "cell_type": "code",
   "execution_count": 62,
   "metadata": {
    "collapsed": false
   },
   "outputs": [
    {
     "data": {
      "text/html": [
       "<div>\n",
       "<style>\n",
       "    .dataframe thead tr:only-child th {\n",
       "        text-align: right;\n",
       "    }\n",
       "\n",
       "    .dataframe thead th {\n",
       "        text-align: left;\n",
       "    }\n",
       "\n",
       "    .dataframe tbody tr th {\n",
       "        vertical-align: top;\n",
       "    }\n",
       "</style>\n",
       "<table border=\"1\" class=\"dataframe\">\n",
       "  <thead>\n",
       "    <tr style=\"text-align: right;\">\n",
       "      <th></th>\n",
       "      <th>0</th>\n",
       "      <th>1</th>\n",
       "      <th>2</th>\n",
       "      <th>3</th>\n",
       "      <th>4</th>\n",
       "    </tr>\n",
       "  </thead>\n",
       "  <tbody>\n",
       "    <tr>\n",
       "      <th>0</th>\n",
       "      <td>5.1</td>\n",
       "      <td>3.5</td>\n",
       "      <td>1.4</td>\n",
       "      <td>0.2</td>\n",
       "      <td>Iris-setosa</td>\n",
       "    </tr>\n",
       "    <tr>\n",
       "      <th>1</th>\n",
       "      <td>4.9</td>\n",
       "      <td>3.0</td>\n",
       "      <td>1.4</td>\n",
       "      <td>0.2</td>\n",
       "      <td>Iris-setosa</td>\n",
       "    </tr>\n",
       "    <tr>\n",
       "      <th>2</th>\n",
       "      <td>4.7</td>\n",
       "      <td>3.2</td>\n",
       "      <td>1.3</td>\n",
       "      <td>0.2</td>\n",
       "      <td>Iris-setosa</td>\n",
       "    </tr>\n",
       "    <tr>\n",
       "      <th>3</th>\n",
       "      <td>4.6</td>\n",
       "      <td>3.1</td>\n",
       "      <td>1.5</td>\n",
       "      <td>0.2</td>\n",
       "      <td>Iris-setosa</td>\n",
       "    </tr>\n",
       "    <tr>\n",
       "      <th>4</th>\n",
       "      <td>5.0</td>\n",
       "      <td>3.6</td>\n",
       "      <td>1.4</td>\n",
       "      <td>0.2</td>\n",
       "      <td>Iris-setosa</td>\n",
       "    </tr>\n",
       "  </tbody>\n",
       "</table>\n",
       "</div>"
      ],
      "text/plain": [
       "     0    1    2    3            4\n",
       "0  5.1  3.5  1.4  0.2  Iris-setosa\n",
       "1  4.9  3.0  1.4  0.2  Iris-setosa\n",
       "2  4.7  3.2  1.3  0.2  Iris-setosa\n",
       "3  4.6  3.1  1.5  0.2  Iris-setosa\n",
       "4  5.0  3.6  1.4  0.2  Iris-setosa"
      ]
     },
     "execution_count": 62,
     "metadata": {},
     "output_type": "execute_result"
    }
   ],
   "source": [
    "df = pd.read_csv(\"iris.data\",header=None, na_values = \"?\")\n",
    "df.head()"
   ]
  },
  {
   "cell_type": "code",
   "execution_count": 63,
   "metadata": {
    "collapsed": true
   },
   "outputs": [],
   "source": [
    "# train y test\n",
    "X_train, X_test, Y_train, Y_test = train_test_split(df[df.columns[0:-1]],df[df.columns[-1]], train_size=0.75)"
   ]
  },
  {
   "cell_type": "code",
   "execution_count": 64,
   "metadata": {
    "collapsed": true
   },
   "outputs": [],
   "source": [
    "# pasarlo a matrices\n",
    "X_trainM = X_train.as_matrix()\n",
    "Y_trainM = Y_train.as_matrix()\n",
    "X_testM = X_test.as_matrix()\n",
    "Y_testM = Y_test.as_matrix()"
   ]
  },
  {
   "cell_type": "code",
   "execution_count": 65,
   "metadata": {
    "collapsed": true
   },
   "outputs": [],
   "source": [
    "# clasificador\n",
    "clf = DecisionTreeClassifier()\n",
    "clf = clf.fit(X_trainM, Y_trainM) # fit\n",
    "# predict\n",
    "Y_test_prediction = clf.predict(X_testM)\n"
   ]
  },
  {
   "cell_type": "code",
   "execution_count": 66,
   "metadata": {
    "collapsed": false
   },
   "outputs": [
    {
     "data": {
      "text/plain": [
       "array([[13,  0,  0],\n",
       "       [ 0,  7,  1],\n",
       "       [ 0,  1, 16]])"
      ]
     },
     "execution_count": 66,
     "metadata": {},
     "output_type": "execute_result"
    }
   ],
   "source": [
    "conf = confusion_matrix(Y_testM, Y_test_prediction)\n",
    "conf"
   ]
  },
  {
   "cell_type": "code",
   "execution_count": 67,
   "metadata": {
    "collapsed": false
   },
   "outputs": [
    {
     "name": "stdout",
     "output_type": "stream",
     "text": [
      "Accuracy: 0.9473684210526315 Precision: 1.0 Recall: 1.0\n",
      "Vemos por lo pequeña de la BD que el precision y recall para la primera clase es perfecto\n"
     ]
    }
   ],
   "source": [
    "total = float(conf[0][0]+ conf[0][1]+ conf[0][2]+ conf[1][0]+ conf[1][1]+ conf[1][2]+ conf[2][0]+ conf[2][1]+ conf[2][2])\n",
    "#Accuracy (num buenos/total)\n",
    "accuracy = float(conf[0][0] + conf[1][1] + conf[2][2]) / total\n",
    "#Precision para la primera clase\n",
    "precision = float(conf[0][0])/float(conf[0][0] + conf[0][1] + conf[0][2])\n",
    "#Recall para la primera clase\n",
    "recall = float(conf[0][0])/float(conf[0][0] + conf[1][0] + conf[2][0])\n",
    "print(\"Accuracy: {0} Precision: {1} Recall: {2}\".format(accuracy,precision,recall))\n",
    "print(\"Vemos por lo pequeña de la BD que el precision y recall para la primera clase es perfecto\")"
   ]
  },
  {
   "cell_type": "markdown",
   "metadata": {},
   "source": [
    "A continuación se muestra el árbol:"
   ]
  },
  {
   "cell_type": "code",
   "execution_count": 70,
   "metadata": {
    "collapsed": false
   },
   "outputs": [
    {
     "data": {
      "image/svg+xml": [
       "<?xml version=\"1.0\" encoding=\"UTF-8\" standalone=\"no\"?>\n",
       "<!DOCTYPE svg PUBLIC \"-//W3C//DTD SVG 1.1//EN\"\n",
       " \"http://www.w3.org/Graphics/SVG/1.1/DTD/svg11.dtd\">\n",
       "<!-- Generated by graphviz version 2.38.0 (20140413.2041)\n",
       " -->\n",
       "<!-- Title: Tree Pages: 1 -->\n",
       "<svg width=\"631pt\" height=\"581pt\"\n",
       " viewBox=\"0.00 0.00 631.00 581.00\" xmlns=\"http://www.w3.org/2000/svg\" xmlns:xlink=\"http://www.w3.org/1999/xlink\">\n",
       "<g id=\"graph0\" class=\"graph\" transform=\"scale(1 1) rotate(0) translate(4 577)\">\n",
       "<title>Tree</title>\n",
       "<polygon fill=\"white\" stroke=\"none\" points=\"-4,4 -4,-577 627,-577 627,4 -4,4\"/>\n",
       "<!-- 0 -->\n",
       "<g id=\"node1\" class=\"node\"><title>0</title>\n",
       "<polygon fill=\"none\" stroke=\"black\" points=\"244.5,-573 118.5,-573 118.5,-505 244.5,-505 244.5,-573\"/>\n",
       "<text text-anchor=\"middle\" x=\"181.5\" y=\"-557.8\" font-family=\"Times,serif\" font-size=\"14.00\">X[3] &lt;= 0.8</text>\n",
       "<text text-anchor=\"middle\" x=\"181.5\" y=\"-542.8\" font-family=\"Times,serif\" font-size=\"14.00\">gini = 0.6634</text>\n",
       "<text text-anchor=\"middle\" x=\"181.5\" y=\"-527.8\" font-family=\"Times,serif\" font-size=\"14.00\">samples = 112</text>\n",
       "<text text-anchor=\"middle\" x=\"181.5\" y=\"-512.8\" font-family=\"Times,serif\" font-size=\"14.00\">value = [37, 42, 33]</text>\n",
       "</g>\n",
       "<!-- 1 -->\n",
       "<g id=\"node2\" class=\"node\"><title>1</title>\n",
       "<polygon fill=\"none\" stroke=\"black\" points=\"171,-461.5 58,-461.5 58,-408.5 171,-408.5 171,-461.5\"/>\n",
       "<text text-anchor=\"middle\" x=\"114.5\" y=\"-446.3\" font-family=\"Times,serif\" font-size=\"14.00\">gini = 0.0</text>\n",
       "<text text-anchor=\"middle\" x=\"114.5\" y=\"-431.3\" font-family=\"Times,serif\" font-size=\"14.00\">samples = 37</text>\n",
       "<text text-anchor=\"middle\" x=\"114.5\" y=\"-416.3\" font-family=\"Times,serif\" font-size=\"14.00\">value = [37, 0, 0]</text>\n",
       "</g>\n",
       "<!-- 0&#45;&gt;1 -->\n",
       "<g id=\"edge1\" class=\"edge\"><title>0&#45;&gt;1</title>\n",
       "<path fill=\"none\" stroke=\"black\" d=\"M159.747,-504.884C152.451,-493.776 144.303,-481.372 136.954,-470.184\"/>\n",
       "<polygon fill=\"black\" stroke=\"black\" points=\"139.679,-467.957 131.263,-461.52 133.828,-471.8 139.679,-467.957\"/>\n",
       "<text text-anchor=\"middle\" x=\"126.193\" y=\"-482.3\" font-family=\"Times,serif\" font-size=\"14.00\">True</text>\n",
       "</g>\n",
       "<!-- 2 -->\n",
       "<g id=\"node3\" class=\"node\"><title>2</title>\n",
       "<polygon fill=\"none\" stroke=\"black\" points=\"308,-469 189,-469 189,-401 308,-401 308,-469\"/>\n",
       "<text text-anchor=\"middle\" x=\"248.5\" y=\"-453.8\" font-family=\"Times,serif\" font-size=\"14.00\">X[2] &lt;= 4.75</text>\n",
       "<text text-anchor=\"middle\" x=\"248.5\" y=\"-438.8\" font-family=\"Times,serif\" font-size=\"14.00\">gini = 0.4928</text>\n",
       "<text text-anchor=\"middle\" x=\"248.5\" y=\"-423.8\" font-family=\"Times,serif\" font-size=\"14.00\">samples = 75</text>\n",
       "<text text-anchor=\"middle\" x=\"248.5\" y=\"-408.8\" font-family=\"Times,serif\" font-size=\"14.00\">value = [0, 42, 33]</text>\n",
       "</g>\n",
       "<!-- 0&#45;&gt;2 -->\n",
       "<g id=\"edge2\" class=\"edge\"><title>0&#45;&gt;2</title>\n",
       "<path fill=\"none\" stroke=\"black\" d=\"M203.253,-504.884C208.928,-496.243 215.119,-486.819 221.048,-477.793\"/>\n",
       "<polygon fill=\"black\" stroke=\"black\" points=\"224.062,-479.579 226.627,-469.299 218.211,-475.736 224.062,-479.579\"/>\n",
       "<text text-anchor=\"middle\" x=\"231.697\" y=\"-490.08\" font-family=\"Times,serif\" font-size=\"14.00\">False</text>\n",
       "</g>\n",
       "<!-- 3 -->\n",
       "<g id=\"node4\" class=\"node\"><title>3</title>\n",
       "<polygon fill=\"none\" stroke=\"black\" points=\"239,-365 126,-365 126,-297 239,-297 239,-365\"/>\n",
       "<text text-anchor=\"middle\" x=\"182.5\" y=\"-349.8\" font-family=\"Times,serif\" font-size=\"14.00\">X[3] &lt;= 1.65</text>\n",
       "<text text-anchor=\"middle\" x=\"182.5\" y=\"-334.8\" font-family=\"Times,serif\" font-size=\"14.00\">gini = 0.05</text>\n",
       "<text text-anchor=\"middle\" x=\"182.5\" y=\"-319.8\" font-family=\"Times,serif\" font-size=\"14.00\">samples = 39</text>\n",
       "<text text-anchor=\"middle\" x=\"182.5\" y=\"-304.8\" font-family=\"Times,serif\" font-size=\"14.00\">value = [0, 38, 1]</text>\n",
       "</g>\n",
       "<!-- 2&#45;&gt;3 -->\n",
       "<g id=\"edge3\" class=\"edge\"><title>2&#45;&gt;3</title>\n",
       "<path fill=\"none\" stroke=\"black\" d=\"M227.072,-400.884C221.481,-392.243 215.383,-382.819 209.542,-373.793\"/>\n",
       "<polygon fill=\"black\" stroke=\"black\" points=\"212.418,-371.794 204.047,-365.299 206.541,-375.596 212.418,-371.794\"/>\n",
       "</g>\n",
       "<!-- 6 -->\n",
       "<g id=\"node7\" class=\"node\"><title>6</title>\n",
       "<polygon fill=\"none\" stroke=\"black\" points=\"370,-365 257,-365 257,-297 370,-297 370,-365\"/>\n",
       "<text text-anchor=\"middle\" x=\"313.5\" y=\"-349.8\" font-family=\"Times,serif\" font-size=\"14.00\">X[3] &lt;= 1.75</text>\n",
       "<text text-anchor=\"middle\" x=\"313.5\" y=\"-334.8\" font-family=\"Times,serif\" font-size=\"14.00\">gini = 0.1975</text>\n",
       "<text text-anchor=\"middle\" x=\"313.5\" y=\"-319.8\" font-family=\"Times,serif\" font-size=\"14.00\">samples = 36</text>\n",
       "<text text-anchor=\"middle\" x=\"313.5\" y=\"-304.8\" font-family=\"Times,serif\" font-size=\"14.00\">value = [0, 4, 32]</text>\n",
       "</g>\n",
       "<!-- 2&#45;&gt;6 -->\n",
       "<g id=\"edge6\" class=\"edge\"><title>2&#45;&gt;6</title>\n",
       "<path fill=\"none\" stroke=\"black\" d=\"M269.604,-400.884C275.11,-392.243 281.115,-382.819 286.867,-373.793\"/>\n",
       "<polygon fill=\"black\" stroke=\"black\" points=\"289.857,-375.614 292.28,-365.299 283.954,-371.852 289.857,-375.614\"/>\n",
       "</g>\n",
       "<!-- 4 -->\n",
       "<g id=\"node5\" class=\"node\"><title>4</title>\n",
       "<polygon fill=\"none\" stroke=\"black\" points=\"113,-253.5 0,-253.5 0,-200.5 113,-200.5 113,-253.5\"/>\n",
       "<text text-anchor=\"middle\" x=\"56.5\" y=\"-238.3\" font-family=\"Times,serif\" font-size=\"14.00\">gini = 0.0</text>\n",
       "<text text-anchor=\"middle\" x=\"56.5\" y=\"-223.3\" font-family=\"Times,serif\" font-size=\"14.00\">samples = 38</text>\n",
       "<text text-anchor=\"middle\" x=\"56.5\" y=\"-208.3\" font-family=\"Times,serif\" font-size=\"14.00\">value = [0, 38, 0]</text>\n",
       "</g>\n",
       "<!-- 3&#45;&gt;4 -->\n",
       "<g id=\"edge4\" class=\"edge\"><title>3&#45;&gt;4</title>\n",
       "<path fill=\"none\" stroke=\"black\" d=\"M141.591,-296.884C126.919,-285.006 110.416,-271.646 95.8762,-259.876\"/>\n",
       "<polygon fill=\"black\" stroke=\"black\" points=\"97.9993,-257.092 88.0246,-253.52 93.5949,-262.532 97.9993,-257.092\"/>\n",
       "</g>\n",
       "<!-- 5 -->\n",
       "<g id=\"node6\" class=\"node\"><title>5</title>\n",
       "<polygon fill=\"none\" stroke=\"black\" points=\"237.5,-253.5 131.5,-253.5 131.5,-200.5 237.5,-200.5 237.5,-253.5\"/>\n",
       "<text text-anchor=\"middle\" x=\"184.5\" y=\"-238.3\" font-family=\"Times,serif\" font-size=\"14.00\">gini = 0.0</text>\n",
       "<text text-anchor=\"middle\" x=\"184.5\" y=\"-223.3\" font-family=\"Times,serif\" font-size=\"14.00\">samples = 1</text>\n",
       "<text text-anchor=\"middle\" x=\"184.5\" y=\"-208.3\" font-family=\"Times,serif\" font-size=\"14.00\">value = [0, 0, 1]</text>\n",
       "</g>\n",
       "<!-- 3&#45;&gt;5 -->\n",
       "<g id=\"edge5\" class=\"edge\"><title>3&#45;&gt;5</title>\n",
       "<path fill=\"none\" stroke=\"black\" d=\"M183.149,-296.884C183.359,-286.216 183.591,-274.352 183.804,-263.519\"/>\n",
       "<polygon fill=\"black\" stroke=\"black\" points=\"187.303,-263.587 184,-253.52 180.304,-263.449 187.303,-263.587\"/>\n",
       "</g>\n",
       "<!-- 7 -->\n",
       "<g id=\"node8\" class=\"node\"><title>7</title>\n",
       "<polygon fill=\"none\" stroke=\"black\" points=\"364.5,-261 258.5,-261 258.5,-193 364.5,-193 364.5,-261\"/>\n",
       "<text text-anchor=\"middle\" x=\"311.5\" y=\"-245.8\" font-family=\"Times,serif\" font-size=\"14.00\">X[1] &lt;= 2.9</text>\n",
       "<text text-anchor=\"middle\" x=\"311.5\" y=\"-230.8\" font-family=\"Times,serif\" font-size=\"14.00\">gini = 0.5</text>\n",
       "<text text-anchor=\"middle\" x=\"311.5\" y=\"-215.8\" font-family=\"Times,serif\" font-size=\"14.00\">samples = 6</text>\n",
       "<text text-anchor=\"middle\" x=\"311.5\" y=\"-200.8\" font-family=\"Times,serif\" font-size=\"14.00\">value = [0, 3, 3]</text>\n",
       "</g>\n",
       "<!-- 6&#45;&gt;7 -->\n",
       "<g id=\"edge7\" class=\"edge\"><title>6&#45;&gt;7</title>\n",
       "<path fill=\"none\" stroke=\"black\" d=\"M312.851,-296.884C312.692,-288.778 312.519,-279.982 312.352,-271.472\"/>\n",
       "<polygon fill=\"black\" stroke=\"black\" points=\"315.848,-271.229 312.153,-261.299 308.85,-271.366 315.848,-271.229\"/>\n",
       "</g>\n",
       "<!-- 12 -->\n",
       "<g id=\"node13\" class=\"node\"><title>12</title>\n",
       "<polygon fill=\"none\" stroke=\"black\" points=\"496,-261 383,-261 383,-193 496,-193 496,-261\"/>\n",
       "<text text-anchor=\"middle\" x=\"439.5\" y=\"-245.8\" font-family=\"Times,serif\" font-size=\"14.00\">X[2] &lt;= 4.85</text>\n",
       "<text text-anchor=\"middle\" x=\"439.5\" y=\"-230.8\" font-family=\"Times,serif\" font-size=\"14.00\">gini = 0.0644</text>\n",
       "<text text-anchor=\"middle\" x=\"439.5\" y=\"-215.8\" font-family=\"Times,serif\" font-size=\"14.00\">samples = 30</text>\n",
       "<text text-anchor=\"middle\" x=\"439.5\" y=\"-200.8\" font-family=\"Times,serif\" font-size=\"14.00\">value = [0, 1, 29]</text>\n",
       "</g>\n",
       "<!-- 6&#45;&gt;12 -->\n",
       "<g id=\"edge12\" class=\"edge\"><title>6&#45;&gt;12</title>\n",
       "<path fill=\"none\" stroke=\"black\" d=\"M354.409,-296.884C365.852,-287.62 378.409,-277.455 390.279,-267.845\"/>\n",
       "<polygon fill=\"black\" stroke=\"black\" points=\"392.795,-270.312 398.365,-261.299 388.391,-264.871 392.795,-270.312\"/>\n",
       "</g>\n",
       "<!-- 8 -->\n",
       "<g id=\"node9\" class=\"node\"><title>8</title>\n",
       "<polygon fill=\"none\" stroke=\"black\" points=\"241.5,-157 135.5,-157 135.5,-89 241.5,-89 241.5,-157\"/>\n",
       "<text text-anchor=\"middle\" x=\"188.5\" y=\"-141.8\" font-family=\"Times,serif\" font-size=\"14.00\">X[2] &lt;= 4.95</text>\n",
       "<text text-anchor=\"middle\" x=\"188.5\" y=\"-126.8\" font-family=\"Times,serif\" font-size=\"14.00\">gini = 0.375</text>\n",
       "<text text-anchor=\"middle\" x=\"188.5\" y=\"-111.8\" font-family=\"Times,serif\" font-size=\"14.00\">samples = 4</text>\n",
       "<text text-anchor=\"middle\" x=\"188.5\" y=\"-96.8\" font-family=\"Times,serif\" font-size=\"14.00\">value = [0, 1, 3]</text>\n",
       "</g>\n",
       "<!-- 7&#45;&gt;8 -->\n",
       "<g id=\"edge8\" class=\"edge\"><title>7&#45;&gt;8</title>\n",
       "<path fill=\"none\" stroke=\"black\" d=\"M271.565,-192.884C260.395,-183.62 248.137,-173.455 236.549,-163.845\"/>\n",
       "<polygon fill=\"black\" stroke=\"black\" points=\"238.587,-160.989 228.655,-157.299 234.119,-166.377 238.587,-160.989\"/>\n",
       "</g>\n",
       "<!-- 11 -->\n",
       "<g id=\"node12\" class=\"node\"><title>11</title>\n",
       "<polygon fill=\"none\" stroke=\"black\" points=\"365.5,-149.5 259.5,-149.5 259.5,-96.5 365.5,-96.5 365.5,-149.5\"/>\n",
       "<text text-anchor=\"middle\" x=\"312.5\" y=\"-134.3\" font-family=\"Times,serif\" font-size=\"14.00\">gini = 0.0</text>\n",
       "<text text-anchor=\"middle\" x=\"312.5\" y=\"-119.3\" font-family=\"Times,serif\" font-size=\"14.00\">samples = 2</text>\n",
       "<text text-anchor=\"middle\" x=\"312.5\" y=\"-104.3\" font-family=\"Times,serif\" font-size=\"14.00\">value = [0, 2, 0]</text>\n",
       "</g>\n",
       "<!-- 7&#45;&gt;11 -->\n",
       "<g id=\"edge11\" class=\"edge\"><title>7&#45;&gt;11</title>\n",
       "<path fill=\"none\" stroke=\"black\" d=\"M311.825,-192.884C311.928,-182.326 312.043,-170.597 312.148,-159.854\"/>\n",
       "<polygon fill=\"black\" stroke=\"black\" points=\"315.652,-159.554 312.25,-149.52 308.652,-159.485 315.652,-159.554\"/>\n",
       "</g>\n",
       "<!-- 9 -->\n",
       "<g id=\"node10\" class=\"node\"><title>9</title>\n",
       "<polygon fill=\"none\" stroke=\"black\" points=\"180.5,-53 74.5,-53 74.5,-0 180.5,-0 180.5,-53\"/>\n",
       "<text text-anchor=\"middle\" x=\"127.5\" y=\"-37.8\" font-family=\"Times,serif\" font-size=\"14.00\">gini = 0.0</text>\n",
       "<text text-anchor=\"middle\" x=\"127.5\" y=\"-22.8\" font-family=\"Times,serif\" font-size=\"14.00\">samples = 1</text>\n",
       "<text text-anchor=\"middle\" x=\"127.5\" y=\"-7.8\" font-family=\"Times,serif\" font-size=\"14.00\">value = [0, 1, 0]</text>\n",
       "</g>\n",
       "<!-- 8&#45;&gt;9 -->\n",
       "<g id=\"edge9\" class=\"edge\"><title>8&#45;&gt;9</title>\n",
       "<path fill=\"none\" stroke=\"black\" d=\"M167.165,-88.9485C161.496,-80.1664 155.362,-70.6629 149.65,-61.815\"/>\n",
       "<polygon fill=\"black\" stroke=\"black\" points=\"152.477,-59.7402 144.113,-53.2367 146.596,-63.5365 152.477,-59.7402\"/>\n",
       "</g>\n",
       "<!-- 10 -->\n",
       "<g id=\"node11\" class=\"node\"><title>10</title>\n",
       "<polygon fill=\"none\" stroke=\"black\" points=\"304.5,-53 198.5,-53 198.5,-0 304.5,-0 304.5,-53\"/>\n",
       "<text text-anchor=\"middle\" x=\"251.5\" y=\"-37.8\" font-family=\"Times,serif\" font-size=\"14.00\">gini = 0.0</text>\n",
       "<text text-anchor=\"middle\" x=\"251.5\" y=\"-22.8\" font-family=\"Times,serif\" font-size=\"14.00\">samples = 3</text>\n",
       "<text text-anchor=\"middle\" x=\"251.5\" y=\"-7.8\" font-family=\"Times,serif\" font-size=\"14.00\">value = [0, 0, 3]</text>\n",
       "</g>\n",
       "<!-- 8&#45;&gt;10 -->\n",
       "<g id=\"edge10\" class=\"edge\"><title>8&#45;&gt;10</title>\n",
       "<path fill=\"none\" stroke=\"black\" d=\"M210.534,-88.9485C216.389,-80.1664 222.725,-70.6629 228.623,-61.815\"/>\n",
       "<polygon fill=\"black\" stroke=\"black\" points=\"231.707,-63.4987 234.342,-53.2367 225.883,-59.6158 231.707,-63.4987\"/>\n",
       "</g>\n",
       "<!-- 13 -->\n",
       "<g id=\"node14\" class=\"node\"><title>13</title>\n",
       "<polygon fill=\"none\" stroke=\"black\" points=\"491.5,-157 385.5,-157 385.5,-89 491.5,-89 491.5,-157\"/>\n",
       "<text text-anchor=\"middle\" x=\"438.5\" y=\"-141.8\" font-family=\"Times,serif\" font-size=\"14.00\">X[1] &lt;= 3.1</text>\n",
       "<text text-anchor=\"middle\" x=\"438.5\" y=\"-126.8\" font-family=\"Times,serif\" font-size=\"14.00\">gini = 0.4444</text>\n",
       "<text text-anchor=\"middle\" x=\"438.5\" y=\"-111.8\" font-family=\"Times,serif\" font-size=\"14.00\">samples = 3</text>\n",
       "<text text-anchor=\"middle\" x=\"438.5\" y=\"-96.8\" font-family=\"Times,serif\" font-size=\"14.00\">value = [0, 1, 2]</text>\n",
       "</g>\n",
       "<!-- 12&#45;&gt;13 -->\n",
       "<g id=\"edge13\" class=\"edge\"><title>12&#45;&gt;13</title>\n",
       "<path fill=\"none\" stroke=\"black\" d=\"M439.175,-192.884C439.096,-184.778 439.01,-175.982 438.926,-167.472\"/>\n",
       "<polygon fill=\"black\" stroke=\"black\" points=\"442.424,-167.265 438.826,-157.299 435.425,-167.333 442.424,-167.265\"/>\n",
       "</g>\n",
       "<!-- 16 -->\n",
       "<g id=\"node17\" class=\"node\"><title>16</title>\n",
       "<polygon fill=\"none\" stroke=\"black\" points=\"623,-149.5 510,-149.5 510,-96.5 623,-96.5 623,-149.5\"/>\n",
       "<text text-anchor=\"middle\" x=\"566.5\" y=\"-134.3\" font-family=\"Times,serif\" font-size=\"14.00\">gini = 0.0</text>\n",
       "<text text-anchor=\"middle\" x=\"566.5\" y=\"-119.3\" font-family=\"Times,serif\" font-size=\"14.00\">samples = 27</text>\n",
       "<text text-anchor=\"middle\" x=\"566.5\" y=\"-104.3\" font-family=\"Times,serif\" font-size=\"14.00\">value = [0, 0, 27]</text>\n",
       "</g>\n",
       "<!-- 12&#45;&gt;16 -->\n",
       "<g id=\"edge16\" class=\"edge\"><title>12&#45;&gt;16</title>\n",
       "<path fill=\"none\" stroke=\"black\" d=\"M480.733,-192.884C495.522,-181.006 512.156,-167.646 526.811,-155.876\"/>\n",
       "<polygon fill=\"black\" stroke=\"black\" points=\"529.12,-158.511 534.725,-149.52 524.737,-153.053 529.12,-158.511\"/>\n",
       "</g>\n",
       "<!-- 14 -->\n",
       "<g id=\"node15\" class=\"node\"><title>14</title>\n",
       "<polygon fill=\"none\" stroke=\"black\" points=\"459.5,-53 353.5,-53 353.5,-0 459.5,-0 459.5,-53\"/>\n",
       "<text text-anchor=\"middle\" x=\"406.5\" y=\"-37.8\" font-family=\"Times,serif\" font-size=\"14.00\">gini = 0.0</text>\n",
       "<text text-anchor=\"middle\" x=\"406.5\" y=\"-22.8\" font-family=\"Times,serif\" font-size=\"14.00\">samples = 2</text>\n",
       "<text text-anchor=\"middle\" x=\"406.5\" y=\"-7.8\" font-family=\"Times,serif\" font-size=\"14.00\">value = [0, 0, 2]</text>\n",
       "</g>\n",
       "<!-- 13&#45;&gt;14 -->\n",
       "<g id=\"edge14\" class=\"edge\"><title>13&#45;&gt;14</title>\n",
       "<path fill=\"none\" stroke=\"black\" d=\"M427.308,-88.9485C424.458,-80.5323 421.384,-71.4536 418.496,-62.9243\"/>\n",
       "<polygon fill=\"black\" stroke=\"black\" points=\"421.738,-61.5858 415.215,-53.2367 415.107,-63.831 421.738,-61.5858\"/>\n",
       "</g>\n",
       "<!-- 15 -->\n",
       "<g id=\"node16\" class=\"node\"><title>15</title>\n",
       "<polygon fill=\"none\" stroke=\"black\" points=\"583.5,-53 477.5,-53 477.5,-0 583.5,-0 583.5,-53\"/>\n",
       "<text text-anchor=\"middle\" x=\"530.5\" y=\"-37.8\" font-family=\"Times,serif\" font-size=\"14.00\">gini = 0.0</text>\n",
       "<text text-anchor=\"middle\" x=\"530.5\" y=\"-22.8\" font-family=\"Times,serif\" font-size=\"14.00\">samples = 1</text>\n",
       "<text text-anchor=\"middle\" x=\"530.5\" y=\"-7.8\" font-family=\"Times,serif\" font-size=\"14.00\">value = [0, 1, 0]</text>\n",
       "</g>\n",
       "<!-- 13&#45;&gt;15 -->\n",
       "<g id=\"edge15\" class=\"edge\"><title>13&#45;&gt;15</title>\n",
       "<path fill=\"none\" stroke=\"black\" d=\"M470.677,-88.9485C479.672,-79.709 489.445,-69.671 498.433,-60.4381\"/>\n",
       "<polygon fill=\"black\" stroke=\"black\" points=\"500.976,-62.8434 505.444,-53.2367 495.961,-57.9605 500.976,-62.8434\"/>\n",
       "</g>\n",
       "</g>\n",
       "</svg>\n"
      ],
      "text/plain": [
       "<graphviz.files.Source at 0x7fbb1a190160>"
      ]
     },
     "execution_count": 70,
     "metadata": {},
     "output_type": "execute_result"
    }
   ],
   "source": [
    "iris_data = export_graphviz(clf, out_file = None) \n",
    "graph = graphviz.Source(iris_data, format=\"pdf\", engine=\"dot\")\n",
    "graph"
   ]
  },
  {
   "cell_type": "markdown",
   "metadata": {},
   "source": [
    "#### Árbol:"
   ]
  },
  {
   "cell_type": "markdown",
   "metadata": {},
   "source": [
    "![Árbol](treeIris2.png)"
   ]
  },
  {
   "cell_type": "code",
   "execution_count": null,
   "metadata": {
    "collapsed": true
   },
   "outputs": [],
   "source": []
  }
 ],
 "metadata": {
  "anaconda-cloud": {},
  "kernelspec": {
   "display_name": "Python [Root]",
   "language": "python",
   "name": "Python [Root]"
  },
  "language_info": {
   "codemirror_mode": {
    "name": "ipython",
    "version": 3
   },
   "file_extension": ".py",
   "mimetype": "text/x-python",
   "name": "python",
   "nbconvert_exporter": "python",
   "pygments_lexer": "ipython3",
   "version": "3.5.2"
  }
 },
 "nbformat": 4,
 "nbformat_minor": 1
}
